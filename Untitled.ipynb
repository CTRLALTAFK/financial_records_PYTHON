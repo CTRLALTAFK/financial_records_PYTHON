{
 "cells": [
  {
   "cell_type": "code",
   "execution_count": null,
   "metadata": {},
   "outputs": [],
   "source": [
    "import pandas as pd\n",
    "import csv\n"
   ]
  },
  {
   "cell_type": "code",
   "execution_count": null,
   "metadata": {},
   "outputs": [],
   "source": [
    "#loading and reading csv\n",
    "budgetdata = \"budget_data.csv\"\n",
    "budgetdata = pd.read_csv(budgetdata, encoding='utf-8')\n",
    "budgetdata.head()"
   ]
  },
  {
   "cell_type": "code",
   "execution_count": null,
   "metadata": {},
   "outputs": [],
   "source": [
    "#Total number of months\n",
    "totalmonths = budgetdata[\"Months\"].sum"
   ]
  }
 ],
 "metadata": {
  "kernelspec": {
   "display_name": "Python [conda env:pythondata]",
   "language": "python",
   "name": "conda-env-pythondata-py"
  }
 },
 "nbformat": 4,
 "nbformat_minor": 2
}
